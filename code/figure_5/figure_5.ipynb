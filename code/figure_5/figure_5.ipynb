{
 "cells": [
  {
   "cell_type": "markdown",
   "metadata": {},
   "source": [
    "Figure 5E\n",
    "(E) DHX15R222G does not rescue cryptic splicing induced by DHX15 degradation. (E) Sashimi plot of reads mapping to the SNAPC1 intron and flanking exons. Data are representative of biological triplicates for each condition.  "
   ]
  },
  {
   "cell_type": "code",
   "execution_count": null,
   "metadata": {},
   "outputs": [],
   "source": [
    "%%capture\n",
    "\n",
    "!~/pysashimi/main.py plot \\\n",
    "-b ../../data/pysashimi_tables/pysashimi_bam_list_dhx15_mut.txt \\\n",
    "-e chr14:61767253-61768735:- \\\n",
    "-t 3 \\\n",
    "--color-factor 3 \\\n"
   ]
  },
  {
   "cell_type": "markdown",
   "metadata": {},
   "source": [
    "Figure 5F\n",
    "(F) DHX15R222G does not rescue cryptic splicing induced by DHX15 degradation. (F) Cryptic splice junctions were quantified in LM2 FKBP-DHX15 cells expressing GFP, DHX15WT, and DHX15R222G upon degradation of the FKBP-DHX15 allele. Expression of DHX15WT suppresses accumulation of cryptic splice junctions while GFP and DHX15R222G do not. Bar plot depicts fold change in cryptic splicing magnitude compared to DMSO treatment after 6hrs of target degradation (mean +/- SEM, n=3 biological replicates/condition, two-tailed unpaired Student’s t-test)."
   ]
  },
  {
   "cell_type": "code",
   "execution_count": 1,
   "metadata": {},
   "outputs": [],
   "source": [
    "import glob\n",
    "\n",
    "import matplotlib.pyplot as plt\n",
    "import numpy as np\n",
    "import pandas as pd\n",
    "\n",
    "from matplotlib.patches import Patch\n",
    "from natsort import os_sorted\n",
    "from scipy.stats import sem\n"
   ]
  },
  {
   "cell_type": "code",
   "execution_count": 2,
   "metadata": {},
   "outputs": [],
   "source": [
    "filelist = os_sorted(glob.glob('../../data/r222g_mutant/sj_out/*'))"
   ]
  },
  {
   "cell_type": "code",
   "execution_count": 3,
   "metadata": {},
   "outputs": [],
   "source": [
    "def get_uj_counts(filenam):\n",
    "    test = pd.read_csv(filenam, sep='\\t')\n",
    "    test_filt = test[test['unique'] >= 3]\n",
    "    intronic = np.sum([i == 'intronic' for i in test_filt['class']])\n",
    "    match_5 = np.sum([i == 'matching 5' for i in test_filt['class']])\n",
    "    match_3 = np.sum([i == 'matching 3' for i in test_filt['class']])\n",
    "    ki = np.sum([i == 'known intron' for i in test_filt['class']])\n",
    "    \n",
    "    return [ki, match_5, match_3, intronic]\n",
    "\n",
    "def flatten(regular_list):\n",
    "    return [item for sublist in regular_list for item in sublist]\n"
   ]
  },
  {
   "cell_type": "code",
   "execution_count": 4,
   "metadata": {},
   "outputs": [
    {
     "name": "stderr",
     "output_type": "stream",
     "text": [
      "/storage/cylin/home/bmho/anaconda3/lib/python3.7/site-packages/IPython/core/interactiveshell.py:3325: DtypeWarning: Columns (0) have mixed types. Specify dtype option on import or set low_memory=False.\n",
      "  exec(code_obj, self.user_global_ns, self.user_ns)\n"
     ]
    }
   ],
   "source": [
    "uj_counts = [get_uj_counts(i) for i in filelist]\n"
   ]
  },
  {
   "cell_type": "code",
   "execution_count": 5,
   "metadata": {},
   "outputs": [],
   "source": [
    "uj_df = pd.DataFrame(uj_counts)\n",
    "uj_df.columns = ['known intron', 'matching 5', 'matching 3', 'intronic']\n",
    "\n",
    "uj_df.index = [i.split('/')[-1].split('_SJ')[0] for i in filelist]\n"
   ]
  },
  {
   "cell_type": "code",
   "execution_count": 6,
   "metadata": {},
   "outputs": [],
   "source": [
    "metadata = pd.read_csv(\n",
    "    '../../data/r222g_mutant/r222g_mutant_metadata.txt',\n",
    "    sep='\\t',\n",
    "    dtype='object',\n",
    "    index_col=1\n",
    ")\n",
    "metadata['code'] = metadata['Clone'] + '_' + metadata['Dosage value'] + '_' + metadata['Time value']"
   ]
  },
  {
   "cell_type": "code",
   "execution_count": 7,
   "metadata": {},
   "outputs": [],
   "source": [
    "code_list = [\n",
    "    'WT_Veh_24',\n",
    "    'GFP_Trt_6',\n",
    "    'WT_Trt_6',\n",
    "    'R222G_Trt_6',\n",
    "]"
   ]
  },
  {
   "cell_type": "code",
   "execution_count": 8,
   "metadata": {},
   "outputs": [],
   "source": [
    "uj_ki_norm = uj_df.divide(uj_df.loc[:,'known intron'],axis=0)\n"
   ]
  },
  {
   "cell_type": "code",
   "execution_count": 9,
   "metadata": {},
   "outputs": [],
   "source": [
    "bar_vals = []\n",
    "error_vals = []\n",
    "for i in code_list:\n",
    "    inds = metadata[metadata['code'] == i].index \n",
    "    bar_vals.append(np.mean(uj_ki_norm.loc[inds,:]))\n",
    "    error_vals.append(sem(uj_ki_norm.loc[inds,:]))\n",
    "    \n",
    "bar_vals = pd.DataFrame(bar_vals)\n",
    "error_vals = pd.DataFrame(error_vals)\n",
    "\n",
    "bar_vals.index = code_list\n",
    "error_vals.index = code_list\n",
    "error_vals.columns = uj_df.columns"
   ]
  },
  {
   "cell_type": "code",
   "execution_count": 10,
   "metadata": {},
   "outputs": [],
   "source": [
    "def make_uj_plot_no_ki_ax(ax,colnam,bars,errors,colors):\n",
    "    xvals = range(len(bars))\n",
    "\n",
    "    yvals = bars.loc[:,colnam].transpose().values\n",
    "    errs = errors.loc[:,colnam].transpose().values\n",
    "    \n",
    "    ax.bar(\n",
    "        xvals,\n",
    "        yvals,\n",
    "        yerr=errs,\n",
    "        color=colors,\n",
    "    )\n",
    "    \n",
    "\n",
    "    ax.set_xticks([])\n",
    "\n",
    "    ax.set_ylabel(colnam + ' UJ/KI', fontsize=12)\n"
   ]
  },
  {
   "cell_type": "code",
   "execution_count": 11,
   "metadata": {},
   "outputs": [],
   "source": [
    "legend_elements = [\n",
    "        Patch(\n",
    "            facecolor='tab:grey',\n",
    "            label=code_list[0]\n",
    "        ),\n",
    "        Patch(\n",
    "            facecolor='tab:red',\n",
    "            label=code_list[1]\n",
    "        ),\n",
    "        Patch(\n",
    "            facecolor='tab:blue',\n",
    "            label=code_list[2] \n",
    "        ),\n",
    "        Patch(\n",
    "            facecolor='tab:orange',\n",
    "            label=code_list[3] \n",
    "        ),\n",
    "    ]"
   ]
  },
  {
   "cell_type": "code",
   "execution_count": 12,
   "metadata": {},
   "outputs": [
    {
     "data": {
      "image/png": "[encoded data removed]",
      "text/plain": [
       "<Figure size 648x216 with 4 Axes>"
      ]
     },
     "metadata": {
      "needs_background": "light"
     },
     "output_type": "display_data"
    }
   ],
   "source": [
    "fig,(ax1,ax2,ax3,ax4) = plt.subplots(1,4,figsize=(9,3))\n",
    "\n",
    "plt.tight_layout(w_pad=2)\n",
    "\n",
    "color_list = ['tab:grey','tab:red','tab:blue','tab:orange']\n",
    "\n",
    "make_uj_plot_no_ki_ax(\n",
    "    ax1,\n",
    "    'matching 5',\n",
    "    bar_vals,\n",
    "    error_vals,\n",
    "    color_list\n",
    ")\n",
    "make_uj_plot_no_ki_ax(\n",
    "    ax2,\n",
    "    'matching 3',\n",
    "    bar_vals,\n",
    "    error_vals,\n",
    "    color_list\n",
    ")\n",
    "make_uj_plot_no_ki_ax(\n",
    "    ax3,\n",
    "    'intronic',\n",
    "    bar_vals,\n",
    "    error_vals,\n",
    "    color_list\n",
    ")\n",
    "\n",
    "box = ax4.get_position()\n",
    "ax4.set_position([box.x0, box.y0, box.width * 0.8, box.height])\n",
    "\n",
    "ax4.axis('off')\n",
    "ax4.legend(handles = legend_elements,bbox_to_anchor=(1, 0.7))\n",
    "\n",
    "\n",
    "for ax in [ax1,ax2,ax3]:\n",
    "    ax.spines['right'].set_visible(False)\n",
    "    ax.spines['top'].set_visible(False)\n",
    "    "
   ]
  },
  {
   "cell_type": "markdown",
   "metadata": {},
   "source": [
    "Figure 5J\n",
    "(J) Dhx15R222G mutation in AML1-ETO9a cell lines induces cryptic splicing. Sashimi plot of representative intron mis-spliced in both heterozygous and homozygous Dhx15R222G cell lines."
   ]
  },
  {
   "cell_type": "code",
   "execution_count": null,
   "metadata": {},
   "outputs": [],
   "source": [
    "%%capture\n",
    "\n",
    "!~/pysashimi/main.py plot \\\n",
    "-b ../../data/pysashimi_tables/pysashimi_bam_list_aml_mouse.txt \\\n",
    "-e chr9:44299279-44299605:+ \\\n",
    "-t 3 \\\n",
    "--color-factor 3 \\\n"
   ]
  },
  {
   "cell_type": "markdown",
   "metadata": {},
   "source": [
    "Figure 5K\n",
    "(K) Introduction of Dhx15R222G mutation increases cryptic splicing. Number of unique cryptic splice junctions was quantified in introns mis-spliced in heterozygous and homozygous Dhx15R222G mutation in AML1-ETO9a cell lines. Bar plot depicts the fold change in number of cryptic splice junctions in tamoxifen vs vehicle treated cells (mean +/- SEM, n=3 biological replicates/condition, two-tailed unpaired Student’s t-test)."
   ]
  },
  {
   "cell_type": "code",
   "execution_count": 3,
   "metadata": {},
   "outputs": [],
   "source": [
    "import glob\n",
    "\n",
    "import matplotlib.pyplot as plt\n",
    "import numpy as np\n",
    "import pandas as pd\n",
    "\n",
    "from natsort import os_sorted\n",
    "from matplotlib.lines import Line2D\n",
    "from matplotlib.patches import Patch\n",
    "\n",
    "from scipy.stats import sem\n"
   ]
  },
  {
   "cell_type": "code",
   "execution_count": 4,
   "metadata": {},
   "outputs": [],
   "source": [
    "metadata = pd.read_csv(\n",
    "    '../../data/aml_mouse/aml_mouse_metadata.txt',\n",
    "    sep='\\t',\n",
    "    dtype='object'\n",
    ")\n",
    "metadata['code'] = metadata['Dosage value'] + '_' + metadata['Dosage 2 value'] + '_' + metadata['Time value']"
   ]
  },
  {
   "cell_type": "code",
   "execution_count": 5,
   "metadata": {},
   "outputs": [
    {
     "name": "stderr",
     "output_type": "stream",
     "text": [
      "/storage/cylin/home/bmho/anaconda3/lib/python3.7/site-packages/IPython/core/interactiveshell.py:3248: DtypeWarning: Columns (1) have mixed types. Specify dtype option on import or set low_memory=False.\n",
      "  if (await self.run_code(code, result,  async_=asy)):\n"
     ]
    }
   ],
   "source": [
    "filelist = os_sorted(\n",
    "    glob.glob(\n",
    "        '../../data/aml_mouse/intron_misproc/*tsv'\n",
    "    )\n",
    ")\n",
    "\n",
    "proc_counts = [pd.read_csv(i,sep='\\t',index_col='gene_id').processed for i in filelist]\n",
    "unproc_counts = [pd.read_csv(i,sep='\\t',index_col='gene_id').unprocessed for i in filelist]\n",
    "\n",
    "proc_df = pd.DataFrame(proc_counts).transpose()\n",
    "proc_df.columns = [i.split('/')[-1].split('_Aligned')[0] for i in filelist]\n",
    "\n",
    "unproc_df = pd.DataFrame(unproc_counts).transpose()\n",
    "unproc_df.columns = [i.split('/')[-1].split('_Aligned')[0] for i in filelist]"
   ]
  },
  {
   "cell_type": "code",
   "execution_count": 6,
   "metadata": {},
   "outputs": [],
   "source": [
    "# greater than 200 in 90% of samples sample\n",
    "\n",
    "exp_genes = np.sum(proc_df>200,axis=1)>(0.9*len(filelist))\n",
    "proc_df_filt = proc_df.loc[exp_genes]\n",
    "unproc_df_filt = unproc_df.loc[exp_genes]\n",
    "\n",
    "pca_df = (unproc_df_filt/(proc_df_filt + unproc_df_filt))"
   ]
  },
  {
   "cell_type": "code",
   "execution_count": 7,
   "metadata": {},
   "outputs": [],
   "source": [
    "color_dict = {\n",
    "    'WT_24':'silver',\n",
    "    'Het_24':'cornflowerblue',\n",
    "    'Homo_24':'lightcoral',\n",
    "    'WT_48':'dimgray',\n",
    "    'Het_48':'royalblue',\n",
    "    'Homo_48':'firebrick'\n",
    "}\n",
    "\n",
    "symbol_dict = {\n",
    "    'Veh':'.',\n",
    "    'Tam':'*'\n",
    "}"
   ]
  },
  {
   "cell_type": "code",
   "execution_count": 8,
   "metadata": {},
   "outputs": [],
   "source": [
    "from sklearn.preprocessing import StandardScaler\n",
    "from sklearn.decomposition import PCA\n",
    "\n",
    "x = StandardScaler().fit_transform(np.sqrt(pca_df.transpose()))\n",
    "\n",
    "pca = PCA(n_components=10)\n",
    "\n",
    "principalComponents = pca.fit_transform(x)\n",
    "principalDf = pd.DataFrame(\n",
    "    data = principalComponents, \n",
    "    columns = ['PC 1', 'PC 2', 'PC 3', 'PC 4', 'PC 5', 'PC 6', 'PC 7', 'PC 8', 'PC 9', 'PC 10']\n",
    ")\n",
    "\n",
    "colors = [color_dict[i+'_'+j] for i,j in zip(metadata['Dosage value'],metadata['Time value'])]\n",
    "symbol = [symbol_dict[i] for i in metadata['Dosage 2 value']]\n",
    "targets = metadata['code'].values\n",
    "\n",
    "\n",
    "finalDf = pd.concat(\n",
    "    [\n",
    "        principalDf, \n",
    "        pd.Series(colors), \n",
    "        pd.Series(symbol),\n",
    "        pd.Series(targets),\n",
    "    ], axis = 1)\n",
    "\n",
    "pca_var_dict = {\n",
    "    principalDf.columns[i]:pca.explained_variance_ratio_[i] \n",
    "    for i in range(len(principalDf.columns))}    "
   ]
  },
  {
   "cell_type": "code",
   "execution_count": 9,
   "metadata": {},
   "outputs": [],
   "source": [
    "legend_elements = [\n",
    "    Patch(\n",
    "        facecolor='dimgray',\n",
    "        label='WT'\n",
    "    ),\n",
    "    Patch(\n",
    "        facecolor='royalblue',\n",
    "        label='Het' \n",
    "    ),\n",
    "    Patch(\n",
    "        facecolor='firebrick',\n",
    "        label='Homo' \n",
    "    ),\n",
    "    Line2D(\n",
    "        [0], [0], \n",
    "        marker='.', \n",
    "        color='w', \n",
    "        label='Veh',\n",
    "        markerfacecolor='k',\n",
    "        markersize=15),\n",
    "    Line2D(\n",
    "        [0], [0], \n",
    "        marker='*', \n",
    "        color='w', \n",
    "        label='Tam',\n",
    "        markerfacecolor='k',\n",
    "        markersize=15),\n",
    "    Patch(\n",
    "        facecolor='gainsboro',\n",
    "        label='24 hr' \n",
    "    ),\n",
    "    Patch(\n",
    "        facecolor='k',\n",
    "        label='48 hr' \n",
    "    ),\n",
    "]"
   ]
  },
  {
   "cell_type": "code",
   "execution_count": 10,
   "metadata": {},
   "outputs": [
    {
     "data": {
      "text/plain": [
       "Text(0.5, 1.0, 'Misproc ratios')"
      ]
     },
     "execution_count": 10,
     "metadata": {},
     "output_type": "execute_result"
    },
    {
     "data": {
      "image/png": "[encoded data removed]",
      "text/plain": [
       "<Figure size 720x576 with 1 Axes>"
      ]
     },
     "metadata": {
      "needs_background": "light"
     },
     "output_type": "display_data"
    }
   ],
   "source": [
    "pc_x = 'PC 1'\n",
    "pc_y = 'PC 2'\n",
    "\n",
    "xlab = pc_x + ' ('+ \"{:.2f}\".format(pca_var_dict[pc_x]*100) + '%)'\n",
    "ylab = pc_y + ' ('+ \"{:.2f}\".format(pca_var_dict[pc_y]*100) + '%)'\n",
    "\n",
    "fig = plt.figure(figsize = (10,8))\n",
    "ax = fig.add_subplot(1,1,1) \n",
    "ax.set_xlabel(xlab, fontsize = 15)\n",
    "ax.set_ylabel(ylab, fontsize = 15)\n",
    "\n",
    "for target in targets:\n",
    "    indicesToKeep = finalDf.iloc[:,-1] == target\n",
    "    color = finalDf.loc[indicesToKeep,0].values[0]\n",
    "    symbol = finalDf.loc[indicesToKeep,1].values[0]\n",
    "    ax.scatter(finalDf.loc[indicesToKeep, pc_x],\n",
    "               finalDf.loc[indicesToKeep, pc_y],\n",
    "               c = color,\n",
    "               s = 250,\n",
    "               marker=symbol,\n",
    "              )\n",
    "\n",
    "\n",
    "\n",
    "box = ax.get_position()\n",
    "ax.set_position([box.x0, box.y0, box.width * 0.8, box.height])\n",
    "ax.grid()\n",
    "\n",
    "plt.legend(handles = legend_elements,loc='center left', bbox_to_anchor=(1, 0.5))\n",
    "plt.title('Misproc ratios', fontsize=15)\n",
    "\n"
   ]
  },
  {
   "cell_type": "code",
   "execution_count": 11,
   "metadata": {},
   "outputs": [],
   "source": [
    "inds_pc2 = abs(pd.DataFrame(pca.components_)).idxmax()==1\n"
   ]
  },
  {
   "cell_type": "code",
   "execution_count": 12,
   "metadata": {},
   "outputs": [],
   "source": [
    "het_24_introns = pd.read_csv(\n",
    "    '../../data/aml_mouse/diff_misproc_tabs/Het_Tam_vs_Veh_24hr.csv',\n",
    "    sep='\\t',\n",
    "    index_col=0\n",
    ")\n",
    "\n",
    "het_48_introns = pd.read_csv(\n",
    "    '../../data/aml_mouse/diff_misproc_tabs/Het_Tam_vs_Veh_48hr.csv',\n",
    "    sep='\\t',\n",
    "    index_col=0\n",
    ")\n",
    "\n",
    "homo_48_introns = pd.read_csv(\n",
    "    '../../data/aml_mouse/diff_misproc_tabs/Homo_Tam_vs_Veh_48hr.csv',\n",
    "    sep='\\t',\n",
    "    index_col=0\n",
    ")"
   ]
  },
  {
   "cell_type": "code",
   "execution_count": 15,
   "metadata": {},
   "outputs": [],
   "source": [
    "het_24_filt = het_24_introns.loc[pca_df.index[inds_pc2]]\n",
    "\n",
    "sig_het_24 = het_24_filt[\n",
    "    (het_24_filt['binomial_test_adj_p'] < 1e-5) &\n",
    "    (het_24_filt['delta_ratio']>0)\n",
    "].index\n",
    "\n",
    "het_48_filt = het_48_introns.loc[pca_df.index[inds_pc2]]\n",
    "\n",
    "sig_het_48 = het_48_filt[\n",
    "    (het_48_filt['binomial_test_adj_p'] < 1e-5) &\n",
    "    (het_48_filt['delta_ratio']>0)\n",
    "].index\n",
    "\n",
    "homo_48_filt = homo_48_introns.loc[pca_df.index[inds_pc2]]\n",
    "\n",
    "sig_homo_48 = homo_48_filt[\n",
    "    (homo_48_filt['binomial_test_adj_p'] < 1e-5) &\n",
    "    (homo_48_filt['delta_ratio']>0)\n",
    "].index\n"
   ]
  },
  {
   "cell_type": "code",
   "execution_count": 16,
   "metadata": {},
   "outputs": [],
   "source": [
    "sig_all = list(set(sig_het_24).union(sig_het_48))\n",
    "\n",
    "homo_48_filt = homo_48_introns.loc[sig_all]\n",
    "\n",
    "sig_filt = homo_48_filt.loc[\n",
    "    homo_48_filt['delta_ratio']>0\n",
    "].index"
   ]
  },
  {
   "cell_type": "code",
   "execution_count": 17,
   "metadata": {
    "scrolled": true
   },
   "outputs": [],
   "source": [
    "labeled_x = pd.DataFrame(\n",
    "    StandardScaler().fit_transform(np.sqrt(pca_df.transpose().iloc[18:,:]))\n",
    ").transpose()\n",
    "labeled_x.index = pca_df.index\n",
    "labeled_x.index.name = 'intron_id'\n",
    "labeled_x.columns = metadata['Sample display name'].values[18:]\n",
    "\n",
    "heatmap_tsv = labeled_x.loc[sig_filt]"
   ]
  },
  {
   "cell_type": "code",
   "execution_count": 18,
   "metadata": {},
   "outputs": [],
   "source": [
    "def flatten(regular_list):\n",
    "    return [item for sublist in regular_list for item in sublist]\n",
    "\n",
    "def get_sj(meta_df):\n",
    "    filedir = '../../data/aml_mouse/sj_out/'\n",
    "    tmp = []\n",
    "    for i,row in meta_df.iterrows():\n",
    "        tmp.append(glob.glob(filedir+row['Sample display name']+'*')[0])\n",
    "    return tmp\n",
    "\n",
    "def get_uj_introns(filenam):\n",
    "    uj_df = pd.read_csv(filenam,sep='\\t')\n",
    "    uj_df_filt = uj_df.loc[\n",
    "        (uj_df['unique'] >= 3) &\n",
    "        (\n",
    "            (uj_df['class'] == 'matching 3') |\n",
    "            (uj_df['class'] == 'matching 5') |\n",
    "            (uj_df['class'] == 'intronic')\n",
    "        )\n",
    "    ]\n",
    "\n",
    "    intron_list = uj_df_filt['intron_ids'].dropna().values\n",
    "    intron_list = [i.replace(' ','') for i in intron_list]\n",
    "    return intron_list"
   ]
  },
  {
   "cell_type": "code",
   "execution_count": 19,
   "metadata": {},
   "outputs": [],
   "source": [
    "metadata['filepath'] = get_sj(metadata)"
   ]
  },
  {
   "cell_type": "code",
   "execution_count": 20,
   "metadata": {},
   "outputs": [
    {
     "name": "stderr",
     "output_type": "stream",
     "text": [
      "/storage/cylin/home/bmho/anaconda3/lib/python3.7/site-packages/IPython/core/interactiveshell.py:3325: DtypeWarning: Columns (0) have mixed types. Specify dtype option on import or set low_memory=False.\n",
      "  exec(code_obj, self.user_global_ns, self.user_ns)\n"
     ]
    }
   ],
   "source": [
    "uj_introns = [get_uj_introns(i) for i in metadata['filepath']]\n"
   ]
  },
  {
   "cell_type": "code",
   "execution_count": 21,
   "metadata": {},
   "outputs": [],
   "source": [
    "uj_df = pd.DataFrame([np.sum([i in heatmap_tsv.index for i in j]) for j in uj_introns])"
   ]
  },
  {
   "cell_type": "code",
   "execution_count": 22,
   "metadata": {},
   "outputs": [],
   "source": [
    "code_list = [\n",
    "    'WT_Veh_48',\n",
    "    'WT_Tam_48',\n",
    "    'Het_Veh_48',\n",
    "    'Het_Tam_48',\n",
    "    'Homo_Veh_48',\n",
    "    'Homo_Tam_48'\n",
    "]"
   ]
  },
  {
   "cell_type": "code",
   "execution_count": 23,
   "metadata": {},
   "outputs": [],
   "source": [
    "bar_vals = []\n",
    "error_vals = []\n",
    "for i in code_list:\n",
    "    inds = metadata[metadata['code'] == i].index\n",
    "    ctrl_code = i.split('_')[0] + '_Veh_' + i.split('_')[-1]\n",
    "    ctrl_inds = metadata[metadata['code'] == ctrl_code].index\n",
    "    \n",
    "    norm_df = uj_df.loc[inds,:]/np.mean(uj_df.loc[ctrl_inds,:])\n",
    "    bar_vals.append(np.mean(norm_df))\n",
    "    error_vals.append(sem(norm_df))\n",
    "    \n",
    "bar_vals = pd.DataFrame(bar_vals)\n",
    "error_vals = pd.DataFrame(error_vals)\n",
    "\n",
    "bar_vals.index = code_list\n",
    "error_vals.index = code_list\n",
    "error_vals.columns = uj_df.columns"
   ]
  },
  {
   "cell_type": "code",
   "execution_count": 24,
   "metadata": {},
   "outputs": [],
   "source": [
    "color_list = ['tab:grey','tab:red']*3\n",
    "\n",
    "bar_legend_elements = [\n",
    "    Patch(\n",
    "        facecolor='tab:grey',\n",
    "        label='Vehicle',\n",
    "    ),\n",
    "    Patch(\n",
    "        facecolor='tab:red',\n",
    "        label='Tam',\n",
    "    ),\n",
    "]\n",
    "    \n",
    "    \n",
    "\n",
    "def make_uj_plot_no_ki_ax(ax,colnam,bars,errors,colors):\n",
    "    xvals = [\n",
    "        0,1,\n",
    "        3,4,\n",
    "        6,7\n",
    "    ]\n",
    "\n",
    "    yvals = bars.loc[:,colnam].transpose().values\n",
    "    errs = errors.loc[:,colnam].transpose().values\n",
    "    \n",
    "    ax.bar(\n",
    "        xvals[::2],\n",
    "        yvals[::2],\n",
    "        yerr=errs[::2],\n",
    "        color=colors[::2],\n",
    "    )\n",
    "    \n",
    "    ax.bar(\n",
    "        xvals[1::2],\n",
    "        yvals[1::2],\n",
    "        yerr=errs[1::2],\n",
    "        color=colors[1::2],\n",
    "    )\n",
    "    \n",
    "    ax.set_xticks([])"
   ]
  },
  {
   "cell_type": "code",
   "execution_count": 25,
   "metadata": {},
   "outputs": [
    {
     "data": {
      "image/png": "[encoded data removed]",
      "text/plain": [
       "<Figure size 288x288 with 1 Axes>"
      ]
     },
     "metadata": {
      "needs_background": "light"
     },
     "output_type": "display_data"
    }
   ],
   "source": [
    "fig,ax1 = plt.subplots(1,1,figsize=(4,4))\n",
    "\n",
    "make_uj_plot_no_ki_ax(ax1,0,bar_vals,error_vals,color_list)\n",
    "\n",
    "xlabs = ['WT','Het','Homo',]\n",
    "xticks = [0.5,3.5,6.5,]\n",
    "ax1.set_xticks(xticks)\n",
    "ax1.set_xticklabels(xlabs,ha='center')\n",
    "\n",
    "ax1.legend(handles = bar_legend_elements,loc='center left', bbox_to_anchor=(1, 0.5))\n",
    "\n",
    "ax1.set_ylabel('# UJs in intron set (Fold Change)', fontsize=12)\n",
    "\n",
    "ax1.spines['right'].set_visible(False)\n",
    "ax1.spines['top'].set_visible(False)"
   ]
  },
  {
   "cell_type": "code",
   "execution_count": null,
   "metadata": {},
   "outputs": [],
   "source": []
  }
 ],
 "metadata": {
  "kernelspec": {
   "display_name": "Python 3 (ipykernel)",
   "language": "python",
   "name": "python3"
  },
  "language_info": {
   "codemirror_mode": {
    "name": "ipython",
    "version": 3
   },
   "file_extension": ".py",
   "mimetype": "text/x-python",
   "name": "python",
   "nbconvert_exporter": "python",
   "pygments_lexer": "ipython3",
   "version": "3.9.15"
  }
 },
 "nbformat": 4,
 "nbformat_minor": 2
}
