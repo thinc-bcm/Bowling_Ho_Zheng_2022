{
 "cells": [
  {
   "cell_type": "markdown",
   "metadata": {},
   "source": [
    "Figure 1C\n",
    "(C) Degradation of specific targets results in differential magnitude of mis-splicing. Swarm plot represents the fold change in global mis-splicing (proportion of mis-spliced fragments versus aligned fragments) with maximum target degradation at 9 hours compared to 0nM dose (mean +/- SEM, n=3 biological replicates/condition, two-tailed unpaired Student’s t-test)."
   ]
  },
  {
   "cell_type": "code",
   "execution_count": 1,
   "metadata": {},
   "outputs": [],
   "source": [
    "import glob\n",
    "\n",
    "import matplotlib.pyplot as plt\n",
    "import numpy as np\n",
    "import pandas as pd\n",
    "import random as rand\n",
    "\n",
    "from natsort import os_sorted\n",
    "from matplotlib.patches import Patch\n",
    "from scipy.stats import sem\n"
   ]
  },
  {
   "cell_type": "code",
   "execution_count": 2,
   "metadata": {},
   "outputs": [],
   "source": [
    "big_meta = pd.read_csv('../../data/dtag_experiments/sum159_all_meta.tsv',sep='\\t')\n",
    "\n",
    "big_meta.index = [i.split('_Aligned')[0] for i in big_meta['Sample basename'].values]"
   ]
  },
  {
   "cell_type": "code",
   "execution_count": 3,
   "metadata": {},
   "outputs": [],
   "source": [
    "def get_unproc_multigene(meta_df):\n",
    "    proc_df = pd.DataFrame()\n",
    "    for i,row in meta_df.iterrows():\n",
    "        filepath = '../../data/dtag_experiments/' + \\\n",
    "            row['Target'] + \\\n",
    "            '/multigene_misproc/' + \\\n",
    "            row['Sample basename']\n",
    "        proc_df = pd.concat([\n",
    "            proc_df,\n",
    "            pd.read_csv(glob.glob(filepath+'*tsv')[0],sep='\\t',index_col='gene_id')['unprocessed']\n",
    "        ],axis=1)\n",
    "    proc_df.columns = meta_df.index\n",
    "    return proc_df\n",
    "\n",
    "def get_proc_multigene(meta_df):\n",
    "    proc_df = pd.DataFrame()\n",
    "    for i,row in meta_df.iterrows():\n",
    "        filepath = '../../data/dtag_experiments/' + \\\n",
    "            row['Target'] + \\\n",
    "            '/multigene_misproc/' + \\\n",
    "            row['Sample basename']\n",
    "        proc_df = pd.concat([\n",
    "            proc_df,\n",
    "            pd.read_csv(glob.glob(filepath+'*tsv')[0],sep='\\t',index_col='gene_id')['processed']\n",
    "        ],axis=1)\n",
    "    proc_df.columns = meta_df.index\n",
    "    return proc_df\n"
   ]
  },
  {
   "cell_type": "code",
   "execution_count": 4,
   "metadata": {},
   "outputs": [
    {
     "name": "stderr",
     "output_type": "stream",
     "text": [
      "/storage/cylin/home/bmho/anaconda3/lib/python3.7/site-packages/ipykernel_launcher.py:25: FutureWarning: Sorting because non-concatenation axis is not aligned. A future version\n",
      "of pandas will change to not sort by default.\n",
      "\n",
      "To accept the future behavior, pass 'sort=False'.\n",
      "\n",
      "To retain the current behavior and silence the warning, pass 'sort=True'.\n",
      "\n",
      "/storage/cylin/home/bmho/anaconda3/lib/python3.7/site-packages/ipykernel_launcher.py:11: FutureWarning: Sorting because non-concatenation axis is not aligned. A future version\n",
      "of pandas will change to not sort by default.\n",
      "\n",
      "To accept the future behavior, pass 'sort=False'.\n",
      "\n",
      "To retain the current behavior and silence the warning, pass 'sort=True'.\n",
      "\n",
      "  # This is added back by InteractiveShellApp.init_path()\n"
     ]
    }
   ],
   "source": [
    "proc_multi_all = get_proc_multigene(big_meta)\n",
    "unproc_multi_all = get_unproc_multigene(big_meta)\n"
   ]
  },
  {
   "cell_type": "code",
   "execution_count": 5,
   "metadata": {},
   "outputs": [],
   "source": [
    "ok_genes = proc_multi_all[np.sum(proc_multi_all>200,axis=1) >= 0.9*len(proc_multi_all.columns)].index"
   ]
  },
  {
   "cell_type": "code",
   "execution_count": 6,
   "metadata": {},
   "outputs": [],
   "source": [
    "misproc_values = np.sum(\n",
    "    unproc_multi_all.loc[ok_genes]\n",
    ")/(\n",
    "    np.sum(unproc_multi_all.loc[ok_genes]) + \\\n",
    "    np.sum(proc_multi_all.loc[ok_genes])\n",
    ")"
   ]
  },
  {
   "cell_type": "code",
   "execution_count": 7,
   "metadata": {},
   "outputs": [],
   "source": [
    "code_order = [\n",
    "    'U2AF2_True',\n",
    "    'U2AF2_False',\n",
    "    'DDX46_True',\n",
    "    'DDX46_False',\n",
    "    'SF3B1_True',\n",
    "    'SF3B1_False',\n",
    "    'PRPF8_True',\n",
    "    'PRPF8_False',\n",
    "    'DHX16_True',\n",
    "    'DHX16_False',\n",
    "    'AQR_True',\n",
    "    'AQR_False',\n",
    "    'DHX38_True',\n",
    "    'DHX38_False',\n",
    "    'DHX15_True',\n",
    "    'DHX15_False',\n",
    "]\n",
    "\n",
    "color_dict = {\n",
    "    'AQR':'tab:orange',\n",
    "    'DDX46':'tab:brown',\n",
    "    'DHX15':'tab:blue',\n",
    "    'DHX16':'tab:cyan',\n",
    "    'DHX38':'tab:pink',\n",
    "    'PRPF8':'tab:green',\n",
    "    'SF3B1':'tab:red',\n",
    "    'U2AF2':'tab:purple'\n",
    "}\n"
   ]
  },
  {
   "cell_type": "code",
   "execution_count": 8,
   "metadata": {},
   "outputs": [],
   "source": [
    "def plot_swarm(x_order,yval_df,ax):\n",
    "    for i in range(len(x_order)):\n",
    "        xvals = np.array([rand.uniform(-0.2,0.2) for i in range(0,3)]) + i\n",
    "        ax.scatter(\n",
    "            xvals, \n",
    "            yval_df.loc[yval_df['code'] == x_order[i],'misproc'],\n",
    "            c=color_dict[x_order[i].split('_')[0]]\n",
    "        )\n",
    "        \n",
    "def plot_ranges(x_order,mean_df,error_df,ax):\n",
    "    for i in range(len(x_order)):\n",
    "        ax.plot(\n",
    "            [i-0.3,i+0.3], \n",
    "            [mean_df.loc[x_order[i],0]]*2,\n",
    "            c='k'\n",
    "        )\n",
    "        ax.plot(\n",
    "            [i,i],\n",
    "            [\n",
    "                mean_df.loc[x_order[i],0]+error_df.loc[x_order[i],0],\n",
    "                mean_df.loc[x_order[i],0]-error_df.loc[x_order[i],0]\n",
    "            ],\n",
    "            c='k'\n",
    "        )\n",
    "        ax.plot(\n",
    "            [i-0.1,i+0.1], \n",
    "            [mean_df.loc[x_order[i],0]+error_df.loc[x_order[i],0]]*2,\n",
    "            c='k'\n",
    "        )\n",
    "        ax.plot(\n",
    "            [i-0.1,i+0.1], \n",
    "            [mean_df.loc[x_order[i],0]-error_df.loc[x_order[i],0]]*2,\n",
    "            c='k'\n",
    "        )\n",
    "        \n",
    "def plot_swarm_all(big_filt,ax):\n",
    "    misproc_df = pd.DataFrame(\n",
    "        [\n",
    "            misproc_values.loc[big_filt.index],\n",
    "            big_filt['Target'] + '_' + [str(i==0) for i in big_filt['Dosage value']]\n",
    "        ]\n",
    "    ).transpose()\n",
    "    misproc_df.columns = ['misproc','code']\n",
    "\n",
    "    tmp=[]\n",
    "\n",
    "    for code in code_order:\n",
    "        ctrl_code = code.split('_')[0] + '_True'\n",
    "        misproc_norm = misproc_df.loc[\n",
    "            misproc_df['code'] == code,'misproc'\n",
    "        ] / np.mean(misproc_df.loc[misproc_df['code'] == ctrl_code,'misproc'])\n",
    "        tmp.append(pd.DataFrame([\n",
    "            misproc_norm,\n",
    "            misproc_df.loc[misproc_df['code'] == code,'code']\n",
    "        ]))\n",
    "\n",
    "    misproc_norm_df = pd.concat(tmp,axis=1).transpose()\n",
    "\n",
    "    bar_vals = []\n",
    "    error_vals = []\n",
    "    for i in code_order:\n",
    "        inds = misproc_norm_df[misproc_norm_df['code'] == i].index\n",
    "        bar_vals.append(np.mean(misproc_norm_df.loc[inds,'misproc']))\n",
    "        error_vals.append(sem(misproc_norm_df.loc[inds,'misproc']))\n",
    "\n",
    "    bar_vals = pd.DataFrame(bar_vals)\n",
    "    error_vals = pd.DataFrame(error_vals)\n",
    "\n",
    "    bar_vals.index = code_order\n",
    "    error_vals.index = code_order\n",
    "    \n",
    "    plot_ranges(code_order,bar_vals,error_vals,ax)\n",
    "    plot_swarm(code_order,misproc_norm_df,ax)"
   ]
  },
  {
   "cell_type": "code",
   "execution_count": 9,
   "metadata": {},
   "outputs": [],
   "source": [
    "xticks = list(range(len(code_order)))\n",
    "xtick_labs = [\n",
    "    'U2AF2_Veh',\n",
    "    'U2AF2_dTAG',\n",
    "    'DDX46_Veh',\n",
    "    'DDX46_dTAG',\n",
    "    'SF3B1_Veh',\n",
    "    'SF3B1_dTAG',\n",
    "    'PRPF8_Veh',\n",
    "    'PRPF8_dTAG',\n",
    "    'DHX16_Veh',\n",
    "    'DHX16_dTAG',\n",
    "    'AQR_Veh',\n",
    "    'AQR_dTAG',\n",
    "    'DHX38_Veh',\n",
    "    'DHX38_dTAG',\n",
    "    'DHX15_Veh',\n",
    "    'DHX15_dTAG',\n",
    "]"
   ]
  },
  {
   "cell_type": "code",
   "execution_count": 10,
   "metadata": {},
   "outputs": [],
   "source": [
    "big_filt_6 = big_meta.loc[\n",
    "    ((big_meta['Dosage value']==0) |\n",
    "    (big_meta['Dosage value']>100)) &\n",
    "    (big_meta['Time value'] == 6)\n",
    "]\n",
    "\n",
    "big_filt_9 = big_meta.loc[\n",
    "    ((big_meta['Dosage value']==0) |\n",
    "    (big_meta['Dosage value']>100)) &\n",
    "    ((big_meta['Time value']>6) & (big_meta['Time value']<12))\n",
    "]\n",
    "\n",
    "\n",
    "big_filt_12 = big_meta.loc[\n",
    "    ((big_meta['Dosage value']==0) |\n",
    "    (big_meta['Dosage value']>100)) &\n",
    "    (big_meta['Time value'] == 12)\n",
    "]\n"
   ]
  },
  {
   "cell_type": "code",
   "execution_count": 11,
   "metadata": {},
   "outputs": [
    {
     "data": {
      "text/plain": [
       "(0.7, 2.5)"
      ]
     },
     "execution_count": 11,
     "metadata": {},
     "output_type": "execute_result"
    },
    {
     "data": {
      "image/png": "[encoded data removed]",
      "text/plain": [
       "<Figure size 432x288 with 1 Axes>"
      ]
     },
     "metadata": {
      "needs_background": "light"
     },
     "output_type": "display_data"
    }
   ],
   "source": [
    "fig,ax = plt.subplots()\n",
    "\n",
    "plot_swarm_all(big_filt_6,ax)\n",
    "\n",
    "ax.set_ylabel('Global Misprocessing \\n (normalized to control)', fontsize=14)\n",
    "# ax.grid()\n",
    "\n",
    "ax.set_xticks(xticks)\n",
    "ax.set_xticklabels(xtick_labs,\n",
    "                   fontsize=10,\n",
    "                   rotation=90,\n",
    "                   ha='right', \n",
    "                   rotation_mode='anchor')\n",
    "\n",
    "ax.spines['right'].set_visible(False)\n",
    "ax.spines['top'].set_visible(False)\n",
    "plt.title('6hr', fontsize=14)\n",
    "ax.set_ylim([0.7,2.5])"
   ]
  },
  {
   "cell_type": "code",
   "execution_count": 12,
   "metadata": {},
   "outputs": [
    {
     "data": {
      "text/plain": [
       "(0.7, 2.5)"
      ]
     },
     "execution_count": 12,
     "metadata": {},
     "output_type": "execute_result"
    },
    {
     "data": {
      "image/png": "[encoded data removed]",
      "text/plain": [
       "<Figure size 432x288 with 1 Axes>"
      ]
     },
     "metadata": {
      "needs_background": "light"
     },
     "output_type": "display_data"
    }
   ],
   "source": [
    "fig,ax = plt.subplots()\n",
    "\n",
    "plot_swarm_all(big_filt_9,ax)\n",
    "\n",
    "ax.set_ylabel('Global Misprocessing \\n (normalized to control)', fontsize=14)\n",
    "# ax.grid()\n",
    "\n",
    "ax.set_xticks(xticks)\n",
    "ax.set_xticklabels(xtick_labs,\n",
    "                   fontsize=10,\n",
    "                   rotation=90,\n",
    "                   ha='right', \n",
    "                   rotation_mode='anchor')\n",
    "\n",
    "ax.spines['right'].set_visible(False)\n",
    "ax.spines['top'].set_visible(False)\n",
    "plt.title('9hr', fontsize=14)\n",
    "ax.set_ylim([0.7,2.5])"
   ]
  },
  {
   "cell_type": "code",
   "execution_count": 13,
   "metadata": {},
   "outputs": [
    {
     "data": {
      "text/plain": [
       "(0.7, 2.5)"
      ]
     },
     "execution_count": 13,
     "metadata": {},
     "output_type": "execute_result"
    },
    {
     "data": {
      "image/png": "[encoded data removed]",
      "text/plain": [
       "<Figure size 432x288 with 1 Axes>"
      ]
     },
     "metadata": {
      "needs_background": "light"
     },
     "output_type": "display_data"
    }
   ],
   "source": [
    "fig,ax = plt.subplots()\n",
    "\n",
    "plot_swarm_all(big_filt_12,ax)\n",
    "\n",
    "ax.set_ylabel('Global Misprocessing \\n (normalized to control)', fontsize=14)\n",
    "# ax.grid()\n",
    "\n",
    "ax.set_xticks(xticks)\n",
    "ax.set_xticklabels(xtick_labs,\n",
    "                   fontsize=10,\n",
    "                   rotation=90,\n",
    "                   ha='right', \n",
    "                   rotation_mode='anchor')\n",
    "\n",
    "ax.spines['right'].set_visible(False)\n",
    "ax.spines['top'].set_visible(False)\n",
    "plt.title('12hr', fontsize=14)\n",
    "ax.set_ylim([0.7,2.5])"
   ]
  },
  {
   "cell_type": "markdown",
   "metadata": {},
   "source": [
    "Figure 1D \n",
    "(D) DHX15 has a unique mis-splicing signature compared to other targets. Dimension reduction analysis of mis-splicing scores was used to identify target clusters, suggesting similar signatures of mis-splicing. Three clusters were identified: U2-complex (SF3B1, U2AF2, and DDX46), catalytic spliceosome (DHX38, DHX16, AQR, and PRPF8), and DHX15 in a distinct cluster"
   ]
  },
  {
   "cell_type": "code",
   "execution_count": 1,
   "metadata": {},
   "outputs": [],
   "source": [
    "import matplotlib.pyplot as plt\n",
    "import numpy as np\n",
    "import pandas as pd\n",
    "import umap\n",
    "\n",
    "from natsort import os_sorted\n",
    "from matplotlib.lines import Line2D\n",
    "from matplotlib.patches import Patch\n",
    "from sklearn.preprocessing import StandardScaler\n",
    "from sklearn.decomposition import PCA\n"
   ]
  },
  {
   "cell_type": "code",
   "execution_count": 2,
   "metadata": {},
   "outputs": [],
   "source": [
    "def flatten(regular_list):\n",
    "    return [item for sublist in regular_list for item in sublist]"
   ]
  },
  {
   "cell_type": "code",
   "execution_count": 3,
   "metadata": {},
   "outputs": [],
   "source": [
    "delta_df = pd.read_csv('../../data/dtag_experiments/1D_delta_df.tsv',sep='\\t',index_col=0)\n",
    "\n",
    "inds = flatten([np.array([3,4,5])+i*6 for i in range(0,8)])\n",
    "\n",
    "delta_df_filt = delta_df.iloc[:,inds]"
   ]
  },
  {
   "cell_type": "code",
   "execution_count": 4,
   "metadata": {},
   "outputs": [],
   "source": [
    "color_dict = {\n",
    "    'AQR':'tab:orange',\n",
    "    'DDX46':'tab:brown',\n",
    "    'DHX15':'tab:blue',\n",
    "    'DHX16':'tab:cyan',\n",
    "    'DHX38':'tab:pink',\n",
    "    'PRPF8':'tab:green',\n",
    "    'SF3B1':'tab:red',\n",
    "    'U2AF2':'tab:purple'\n",
    "}\n",
    "\n",
    "legend_elements = [\n",
    "    Patch(\n",
    "        facecolor=color_dict[i],\n",
    "        label=i\n",
    "    ) for i in os_sorted(list(color_dict.keys()))    \n",
    "]"
   ]
  },
  {
   "cell_type": "code",
   "execution_count": 5,
   "metadata": {},
   "outputs": [],
   "source": [
    "x = StandardScaler().fit_transform(delta_df_filt.transpose())\n",
    "\n",
    "pca = PCA(n_components=len(delta_df_filt.columns))\n",
    "\n",
    "principalComponents = pca.fit_transform(x)\n",
    "principalDf = pd.DataFrame(\n",
    "    data = principalComponents,\n",
    ")\n",
    "\n",
    "colors = [color_dict[i.split('_')[0]] for i in delta_df_filt.columns]\n",
    "    \n",
    "targets = ['_'.join([j[0],j[3]]) for j in [i.split('_') for i in delta_df_filt.columns]]\n",
    "\n",
    "\n",
    "finalDf = pd.concat(\n",
    "    [\n",
    "        principalDf, \n",
    "        pd.Series(colors), \n",
    "        pd.Series(targets),\n",
    "    ], axis = 1)\n",
    "\n",
    "\n",
    "pca_var_dict = {\n",
    "    principalDf.columns[i]:pca.explained_variance_ratio_[i] \n",
    "    for i in range(len(principalDf.columns))}"
   ]
  },
  {
   "cell_type": "code",
   "execution_count": 20,
   "metadata": {},
   "outputs": [],
   "source": [
    "colors = [color_dict[i.split('_')[0]] for i in delta_df_filt.columns]\n",
    "    \n",
    "symbols = ['.']*len(delta_df_filt.columns)\n",
    "targets = ['_'.join([j[0],j[3]]) for j in [i.split('_') for i in delta_df_filt.columns]]\n",
    "\n",
    "umap_space_1 = umap.UMAP(\n",
    "    n_neighbors=4,\n",
    "    min_dist=0.2,\n",
    "    init='spectral',\n",
    "    metric='euclidean'\n",
    ").fit_transform(\n",
    "    principalDf.iloc[:,:6]\n",
    ")\n",
    "\n",
    "\n",
    "umap_final_1 = pd.concat(\n",
    "    [\n",
    "        pd.DataFrame(umap_space_1),\n",
    "        pd.Series(colors),\n",
    "        pd.Series(symbols),\n",
    "        pd.Series(targets)\n",
    "    ],\n",
    "    axis=1\n",
    ")\n",
    "\n",
    "umap_final_1.columns = [\n",
    "    'umap x',\n",
    "    'umap y',\n",
    "    'color',\n",
    "    'symbol',\n",
    "    'target'\n",
    "]"
   ]
  },
  {
   "cell_type": "code",
   "execution_count": 21,
   "metadata": {},
   "outputs": [
    {
     "data": {
      "image/png": "[encoded data removed]",
      "text/plain": [
       "<Figure size 720x576 with 1 Axes>"
      ]
     },
     "metadata": {
      "needs_background": "light"
     },
     "output_type": "display_data"
    }
   ],
   "source": [
    "pc_x = 'umap x'\n",
    "pc_y = 'umap y'\n",
    "\n",
    "fig = plt.figure(figsize = (10,8))\n",
    "ax = fig.add_subplot(1,1,1) \n",
    "ax.set_xlabel(pc_x, fontsize = 15)\n",
    "ax.set_ylabel(pc_y, fontsize = 15)\n",
    "\n",
    "\n",
    "for target in targets:\n",
    "    indicesToKeep = umap_final_1.iloc[:,-1] == target\n",
    "    color = umap_final_1.loc[indicesToKeep,'color'].values[0]\n",
    "    symbol = umap_final_1.loc[indicesToKeep,'symbol'].values[0]\n",
    "    ax.scatter(umap_final_1.loc[indicesToKeep, pc_x],\n",
    "               umap_final_1.loc[indicesToKeep, pc_y],\n",
    "               c = color,\n",
    "               s = 75,\n",
    "               marker=symbol,\n",
    "              )\n",
    "\n",
    "\n",
    "\n",
    "box = ax.get_position()\n",
    "ax.set_position([box.x0, box.y0, box.width * 0.8, box.height])\n",
    "\n",
    "plt.legend(handles = legend_elements,loc='center left', bbox_to_anchor=(1, 0.5))\n",
    "ax.grid()\n"
   ]
  },
  {
   "cell_type": "markdown",
   "metadata": {},
   "source": [
    "Figure 1F\n",
    "(F) Degradation of targets within a functional cluster leads to retention of distinct intron sets. RNA-seq read coverage of introns identified as specifically mis-spliced by U2-complex (left) and catalytic spliceosome (right). Data are representative of biological triplicates for each condition."
   ]
  },
  {
   "cell_type": "code",
   "execution_count": null,
   "metadata": {},
   "outputs": [],
   "source": [
    "%%capture\n",
    "\n",
    "!~/pysashimi/main.py plot \\\n",
    "-b ../../data/pysashimi_tables/pysashimi_bam_list_all_target.txt \\\n",
    "-e chr5:151105221-151109826:- \\\n",
    "-t 3 \\\n",
    "--color-factor 3 \\\n"
   ]
  },
  {
   "cell_type": "code",
   "execution_count": null,
   "metadata": {},
   "outputs": [],
   "source": [
    "%%capture\n",
    "\n",
    "!~/pysashimi/main.py plot \\\n",
    "-b ../../data/pysashimi_tables/pysashimi_bam_list_all_target.txt \\\n",
    "-e chr6:158064735-158064839:- \\\n",
    "-t 3 \\\n",
    "--color-factor 3 \\\n"
   ]
  }
 ],
 "metadata": {
  "kernelspec": {
   "display_name": "Python 3 (ipykernel)",
   "language": "python",
   "name": "python3"
  },
  "language_info": {
   "codemirror_mode": {
    "name": "ipython",
    "version": 3
   },
   "file_extension": ".py",
   "mimetype": "text/x-python",
   "name": "python",
   "nbconvert_exporter": "python",
   "pygments_lexer": "ipython3",
   "version": "3.9.15"
  }
 },
 "nbformat": 4,
 "nbformat_minor": 2
}
